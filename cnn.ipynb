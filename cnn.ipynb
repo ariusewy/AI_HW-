{
 "cells": [
  {
   "cell_type": "code",
   "execution_count": 1,
   "metadata": {
    "collapsed": true,
    "pycharm": {
     "is_executing": false
    }
   },
   "outputs": [
    {
     "name": "stderr",
     "text": [
      "D:\\ProgramData\\Anaconda3\\lib\\site-packages\\tensorflow\\python\\framework\\dtypes.py:526: FutureWarning: Passing (type, 1) or '1type' as a synonym of type is deprecated; in a future version of numpy, it will be understood as (type, (1,)) / '(1,)type'.\n  _np_qint8 = np.dtype([(\"qint8\", np.int8, 1)])\nD:\\ProgramData\\Anaconda3\\lib\\site-packages\\tensorflow\\python\\framework\\dtypes.py:527: FutureWarning: Passing (type, 1) or '1type' as a synonym of type is deprecated; in a future version of numpy, it will be understood as (type, (1,)) / '(1,)type'.\n  _np_quint8 = np.dtype([(\"quint8\", np.uint8, 1)])\nD:\\ProgramData\\Anaconda3\\lib\\site-packages\\tensorflow\\python\\framework\\dtypes.py:528: FutureWarning: Passing (type, 1) or '1type' as a synonym of type is deprecated; in a future version of numpy, it will be understood as (type, (1,)) / '(1,)type'.\n  _np_qint16 = np.dtype([(\"qint16\", np.int16, 1)])\nD:\\ProgramData\\Anaconda3\\lib\\site-packages\\tensorflow\\python\\framework\\dtypes.py:529: FutureWarning: Passing (type, 1) or '1type' as a synonym of type is deprecated; in a future version of numpy, it will be understood as (type, (1,)) / '(1,)type'.\n  _np_quint16 = np.dtype([(\"quint16\", np.uint16, 1)])\nD:\\ProgramData\\Anaconda3\\lib\\site-packages\\tensorflow\\python\\framework\\dtypes.py:530: FutureWarning: Passing (type, 1) or '1type' as a synonym of type is deprecated; in a future version of numpy, it will be understood as (type, (1,)) / '(1,)type'.\n  _np_qint32 = np.dtype([(\"qint32\", np.int32, 1)])\nD:\\ProgramData\\Anaconda3\\lib\\site-packages\\tensorflow\\python\\framework\\dtypes.py:535: FutureWarning: Passing (type, 1) or '1type' as a synonym of type is deprecated; in a future version of numpy, it will be understood as (type, (1,)) / '(1,)type'.\n  np_resource = np.dtype([(\"resource\", np.ubyte, 1)])\n"
     ],
     "output_type": "stream"
    }
   ],
   "source": [
    "import math\n",
    "import numpy as np\n",
    "import h5py\n",
    "import matplotlib.pyplot as plt\n",
    "import scipy\n",
    "from PIL import Image\n",
    "from scipy import ndimage\n",
    "import tensorflow as tf\n",
    "from tensorflow.python.framework import ops\n",
    "from cnn_utils import *"
   ]
  },
  {
   "cell_type": "code",
   "execution_count": 2,
   "outputs": [],
   "source": [
    "import os\n",
    "os.environ[\"CUDA_DEVICE_ORDER\"] = \"PCI_BUS_ID\"\n",
    "os.environ['CUDA_VISIBLE_DEVICES'] = \"0,1\""
   ],
   "metadata": {
    "collapsed": false,
    "pycharm": {
     "name": "#%%\n",
     "is_executing": false
    }
   }
  },
  {
   "cell_type": "code",
   "execution_count": 3,
   "outputs": [],
   "source": [
    "\n",
    "train_dataset = h5py.File('data.h5', 'r')\n",
    "X_train_orig = np.array(train_dataset['X_train'][:])\n",
    "Y_train_orig = np.array(train_dataset['y_train'][:]) \n",
    "X_test_orig = np.array(train_dataset['X_test'][:])\n",
    "Y_test_orig = np.array(train_dataset['y_test'][:])\n",
    "X_train = X_train_orig/255.\n",
    "X_test = X_test_orig/255.\n"
   ],
   "metadata": {
    "collapsed": false,
    "pycharm": {
     "name": "#%%\n",
     "is_executing": false
    }
   }
  },
  {
   "cell_type": "code",
   "execution_count": 4,
   "metadata": {
    "collapsed": false,
    "pycharm": {
     "is_executing": false,
     "name": "#%%\n"
    }
   },
   "outputs": [
    {
     "name": "stdout",
     "text": [
      "y = 5\n"
     ],
     "output_type": "stream"
    },
    {
     "data": {
      "text/plain": "<Figure size 432x288 with 1 Axes>",
      "image/png": "[encoded data removed]"
     },
     "metadata": {
      "needs_background": "light"
     },
     "output_type": "display_data"
    }
   ],
   "source": [
    "t = 1000\n",
    "plt.imshow(X_train[t])\n",
    "print(\"y = \"+str(np.squeeze(Y_train_orig[t])+1))\n"
   ]
  },
  {
   "cell_type": "code",
   "execution_count": 5,
   "metadata": {
    "collapsed": false,
    "pycharm": {
     "is_executing": false,
     "name": "#%%\n"
    }
   },
   "outputs": [
    {
     "name": "stdout",
     "text": [
      "number of training examples = 2182\nnumber of test examples = 200\nX_train shape: (2182, 64, 64, 3)\nY_train shape: (2182, 10)\nX_test shape: (200, 64, 64, 3)\nY_test shape: (200, 10)\n[0. 0. 0. 1. 0. 0. 0. 0. 0. 0.]\n"
     ],
     "output_type": "stream"
    }
   ],
   "source": [
    "Y_train_orig = Y_train_orig.T\n",
    "Y_test_orig = Y_test_orig.T\n",
    "Y_train = convert_to_one_hot(Y_train_orig, 10).T\n",
    "Y_test = convert_to_one_hot(Y_test_orig, 10).T\n",
    "print (\"number of training examples = \" + str(X_train.shape[0]))\n",
    "print (\"number of test examples = \" + str(X_test.shape[0]))\n",
    "print (\"X_train shape: \" + str(X_train.shape))\n",
    "print (\"Y_train shape: \" + str(Y_train.shape))\n",
    "print (\"X_test shape: \" + str(X_test.shape))\n",
    "print (\"Y_test shape: \" + str(Y_test.shape))\n",
    "print(Y_train[5])\n",
    "conv_layers = {}"
   ]
  },
  {
   "cell_type": "code",
   "execution_count": 6,
   "metadata": {
    "collapsed": false,
    "pycharm": {
     "name": "#%%\n",
     "is_executing": false
    }
   },
   "outputs": [],
   "source": [
    "#创建占位符\n",
    "def creat_placeholder(n_H0, n_W0, n_C0, n_y):\n",
    "    X = tf.placeholder(tf.float32,shape=[None,n_H0,n_W0,n_C0])\n",
    "    Y = tf.placeholder(tf.float32,shape=[None,n_y])\n",
    "    return X,Y\n",
    "\n"
   ]
  },
  {
   "cell_type": "code",
   "execution_count": 7,
   "metadata": {
    "pycharm": {
     "is_executing": false
    }
   },
   "outputs": [
    {
     "name": "stdout",
     "text": [
      "X = Tensor(\"Placeholder:0\", shape=(?, 64, 64, 3), dtype=float32)\nY = Tensor(\"Placeholder_1:0\", shape=(?, 10), dtype=float32)\n"
     ],
     "output_type": "stream"
    }
   ],
   "source": [
    "X, Y = creat_placeholder(64, 64, 3, 10)\n",
    "print (\"X = \" + str(X))\n",
    "print (\"Y = \" + str(Y))"
   ]
  },
  {
   "cell_type": "code",
   "execution_count": 8,
   "metadata": {
    "pycharm": {
     "is_executing": false
    }
   },
   "outputs": [],
   "source": [
    "#初始化参数\n",
    "def initialize_parameters():\n",
    "    tf.set_random_seed(1)\n",
    "    W1 = tf.get_variable(\"W1\",   [4,4,3,8],initializer=tf.contrib.layers.xavier_initializer(seed=0))\n",
    "    W2 = tf.get_variable(\"W2\",  [2, 2, 8, 16], initializer=tf.contrib.layers.xavier_initializer(seed=0))\n",
    "    W3 = tf.get_variable(\"W3\",  [64,10], initializer=tf.contrib.layers.xavier_initializer(seed=0))\n",
    "    \n",
    "    parameters = {\n",
    "        \"W1\":W1,\n",
    "        \"W2\":W2,\n",
    "        \"W3\":W3\n",
    "    }\n",
    "    return parameters"
   ]
  },
  {
   "cell_type": "code",
   "execution_count": 9,
   "metadata": {
    "pycharm": {
     "is_executing": false
    }
   },
   "outputs": [],
   "source": [
    "#正向传播\n",
    "def forward_propagation(X,parameters):\n",
    "    W1 = parameters['W1']\n",
    "    W2 = parameters['W2']\n",
    "    W3 = parameters['W3']\n",
    "    #CONV2D\n",
    "    Z1 = tf.nn.conv2d(X,W1,strides=[1,1,1,1],padding=\"SAME\")\n",
    "    #RELU\n",
    "    A1 = tf.nn.relu(Z1)\n",
    "    # MAXPOOL: window 8x8, sride 8, padding 'SAME'\n",
    "    P1 = tf.nn.max_pool(A1, ksize=[1,8,8,1], strides=[1,8,8,1], padding=\"SAME\")\n",
    "    # CONV2D: filters W2, stride 1, padding 'SAME'\n",
    "    Z2 = tf.nn.conv2d(P1, W2, strides=[1,1,1,1], padding=\"SAME\")\n",
    "    # RELU\n",
    "    A2 = tf.nn.relu(Z2)\n",
    "    # MAXPOOL: window 4x4, stride 4, padding 'SAME'\n",
    "    P2 = tf.nn.max_pool(A2, ksize=[1,4,4,1], strides=[1,4,4,1], padding=\"SAME\")\n",
    "    # FLATTEN\n",
    "    P2 = tf.contrib.layers.flatten(P2)\n",
    "    #FULLY-CONNECTED\n",
    "    Z3 = tf.matmul(P2, W3)\n",
    "    \n",
    "    return Z3    "
   ]
  },
  {
   "cell_type": "code",
   "execution_count": 10,
   "metadata": {
    "pycharm": {
     "is_executing": false
    }
   },
   "outputs": [],
   "source": [
    "config = tf.ConfigProto()\n",
    "config.allow_soft_placement=True\n",
    "config.gpu_options.per_process_gpu_memory_fraction=0.7\n",
    "config.gpu_options.allow_growth = True"
   ]
  },
  {
   "cell_type": "code",
   "execution_count": 11,
   "outputs": [
    {
     "name": "stdout",
     "text": [
      "\nWARNING: The TensorFlow contrib module will not be included in TensorFlow 2.0.\nFor more information, please see:\n  * https://github.com/tensorflow/community/blob/master/rfcs/20180907-contrib-sunset.md\n  * https://github.com/tensorflow/addons\nIf you depend on functionality not listed there, please file an issue.\n\n",
      "WARNING:tensorflow:From D:\\ProgramData\\Anaconda3\\lib\\site-packages\\tensorflow\\python\\framework\\op_def_library.py:263: colocate_with (from tensorflow.python.framework.ops) is deprecated and will be removed in a future version.\nInstructions for updating:\nColocations handled automatically by placer.\n",
      "WARNING:tensorflow:From D:\\ProgramData\\Anaconda3\\lib\\site-packages\\tensorflow\\contrib\\layers\\python\\layers\\layers.py:1624: flatten (from tensorflow.python.layers.core) is deprecated and will be removed in a future version.\nInstructions for updating:\nUse keras.layers.flatten instead.\n",
      "Z3 = [[-3.6391187  -0.40035295  2.6781216  -1.157715   -0.7321388  -2.0522003\n   2.0173054  -3.4039547  -1.0324228  -2.2833967 ]\n [-3.3136013  -0.23735619  2.5692577  -0.79102385 -0.24624065 -1.6117852\n   1.7850628  -3.2946322  -1.1045172  -2.3272257 ]]\n"
     ],
     "output_type": "stream"
    }
   ],
   "source": [
    "with tf.Session(config=config) as sess:\n",
    "    np.random.seed(1)\n",
    "    X, Y = creat_placeholder(64, 64, 3, 10)\n",
    "    parameters = initialize_parameters()\n",
    "    Z3 = forward_propagation(X, parameters)\n",
    "    init = tf.global_variables_initializer()\n",
    "    sess.run(init)\n",
    "    a = sess.run(Z3, {X: np.random.randn(2,64,64,3), Y: np.random.randn(2,10)})\n",
    "    print(\"Z3 = \" + str(a))"
   ],
   "metadata": {
    "collapsed": false,
    "pycharm": {
     "name": "#%%\n",
     "is_executing": false
    }
   }
  },
  {
   "cell_type": "code",
   "execution_count": 12,
   "metadata": {
    "pycharm": {
     "is_executing": false
    }
   },
   "outputs": [],
   "source": [
    "def compute_cost(Z3, Y):\n",
    "    cost = tf.nn.softmax_cross_entropy_with_logits(logits = Z3, labels = Y)\n",
    "    cost = tf.reduce_mean(cost)    \n",
    "    return cost\n",
    "\n"
   ]
  },
  {
   "cell_type": "code",
   "execution_count": 13,
   "outputs": [
    {
     "name": "stdout",
     "text": [
      "WARNING:tensorflow:From <ipython-input-12-390f989f8b2e>:2: softmax_cross_entropy_with_logits (from tensorflow.python.ops.nn_ops) is deprecated and will be removed in a future version.\nInstructions for updating:\n\nFuture major versions of TensorFlow will allow gradients to flow\ninto the labels input on backprop by default.\n\nSee `tf.nn.softmax_cross_entropy_with_logits_v2`.\n\n",
      "cost = 5.1455398\n"
     ],
     "output_type": "stream"
    }
   ],
   "source": [
    "tf.reset_default_graph()\n",
    "\n",
    "with tf.Session() as sess:\n",
    "    np.random.seed(1)\n",
    "    X, Y = creat_placeholder(64, 64, 3, 10)\n",
    "    parameters = initialize_parameters()\n",
    "    Z3 = forward_propagation(X, parameters)\n",
    "    cost = compute_cost(Z3, Y)\n",
    "    init = tf.global_variables_initializer()\n",
    "    sess.run(init)\n",
    "    a = sess.run(cost, {X: np.random.randn(4,64,64,3), Y: np.random.randn(4,10)})\n",
    "    print(\"cost = \" + str(a))\n",
    "\n"
   ],
   "metadata": {
    "collapsed": false,
    "pycharm": {
     "name": "#%%\n",
     "is_executing": false
    }
   }
  },
  {
   "cell_type": "code",
   "execution_count": 14,
   "outputs": [],
   "source": [
    "def model(X_train,Y_train,X_test,Y_test,learning_rate=0.005,num_epochs = 100,minibatch_size =64, print_cost = True):\n",
    "    ops.reset_default_graph()                         # to be able to rerun the model without overwriting tf variables\n",
    "    tf.set_random_seed(1)                             # to keep results consistent (tensorflow seed)\n",
    "    seed = 3                                          # to keep results consistent (numpy seed)\n",
    "    (m, n_H0, n_W0, n_C0) = X_train.shape\n",
    "    n_y = Y_train.shape[1]                            \n",
    "    costs = []\n",
    "    \n",
    "    X, Y = creat_placeholder(n_H0, n_W0, n_C0, n_y)\n",
    "    parameters = initialize_parameters()\n",
    "    Z3 = forward_propagation(X, parameters)\n",
    "    cost = compute_cost(Z3, Y)\n",
    "    \n",
    "    optimizer = tf.train.AdamOptimizer(learning_rate=learning_rate).minimize(cost)\n",
    "    init = tf.global_variables_initializer()\n",
    "    saver = tf.train.Saver()\n",
    "    \n",
    "    with tf.Session(config=config) as sess:\n",
    "        wirter = tf.summary.FileWriter('logs/',sess.graph)\n",
    "        sess.run(init)\n",
    "        for epoch in range(num_epochs):\n",
    "            minibatch_cost = 0\n",
    "            num_minibatches = int(m / minibatch_size)\n",
    "            seed = seed +1\n",
    "            minibatches = random_mini_batches(X_train, Y_train, minibatch_size, seed)\n",
    "            \n",
    "            for minibatch in minibatches:\n",
    "                (minibatch_X, minibatch_Y) = minibatch\n",
    "                _ , temp_cost = sess.run([optimizer, cost], feed_dict={X: minibatch_X, Y: minibatch_Y})\n",
    "                minibatch_cost += temp_cost / num_minibatches\n",
    "                \n",
    "            if print_cost == True and epoch % 5 == 0:\n",
    "                print (\"Cost after epoch %i: %f\" % (epoch, minibatch_cost))\n",
    "            if print_cost == True and epoch % 1 == 0:\n",
    "                costs.append(minibatch_cost)\n",
    "            if epoch == num_epochs-1:\n",
    "                saver.save(sess,'params.ckpt')\n",
    "            \n",
    "        plt.plot(np.squeeze(costs))\n",
    "        plt.ylabel('cost')\n",
    "        plt.xlabel('iterations (per tens)')\n",
    "        plt.title(\"Learning rate =\" + str(learning_rate))\n",
    "        plt.show()\n",
    "            \n",
    "        predict_op = tf.argmax(Z3, 1)\n",
    "        correct_prediction = tf.equal(predict_op, tf.argmax(Y, 1))\n",
    "        \n",
    "        accuracy = tf.reduce_mean(tf.cast(correct_prediction, \"float\"))\n",
    "        print(accuracy)\n",
    "        train_accuracy = accuracy.eval({X: X_train, Y: Y_train})\n",
    "        test_accuracy = accuracy.eval({X: X_test, Y: Y_test})\n",
    "        print(\"Train Accuracy:\", train_accuracy)\n",
    "        print(\"Test Accuracy:\", test_accuracy)\n",
    "                \n",
    "        return train_accuracy, test_accuracy, parameters\n",
    "            \n",
    "\n",
    "            \n",
    "                \n",
    "            \n",
    "        \n",
    "    \n",
    "    \n"
   ],
   "metadata": {
    "collapsed": false,
    "pycharm": {
     "name": "#%%\n",
     "is_executing": false
    }
   }
  },
  {
   "cell_type": "code",
   "execution_count": 15,
   "outputs": [
    {
     "name": "stdout",
     "text": [
      "Cost after epoch 0: 2.375528\n",
      "Cost after epoch 5: 0.425392\n",
      "Cost after epoch 10: 0.319256\n",
      "Cost after epoch 15: 0.248605\n",
      "Cost after epoch 20: 0.203702\n",
      "Cost after epoch 25: 0.181751\n",
      "Cost after epoch 30: 0.149485\n",
      "Cost after epoch 35: 0.119495\n",
      "Cost after epoch 40: 0.110526\n",
      "Cost after epoch 45: 0.098800\n",
      "Cost after epoch 50: 0.100900\n",
      "Cost after epoch 55: 0.065688\n",
      "Cost after epoch 60: 0.056972\n",
      "Cost after epoch 65: 0.058533\n",
      "Cost after epoch 70: 0.053347\n",
      "Cost after epoch 75: 0.041514\n",
      "Cost after epoch 80: 0.031609\n",
      "Cost after epoch 85: 0.036806\n",
      "Cost after epoch 90: 0.090323\n",
      "Cost after epoch 95: 0.020934\n",
      "Tensor(\"Mean_1:0\", shape=(), dtype=float32)\n",
      "Train Accuracy: 0.9711274\nTest Accuracy: 0.94\n"
     ],
     "output_type": "stream"
    },
    {
     "data": {
      "text/plain": "<Figure size 432x288 with 1 Axes>",
      "image/png": "[encoded data removed]"
     },
     "metadata": {
      "needs_background": "light"
     },
     "output_type": "display_data"
    }
   ],
   "source": [
    "_, _, parameters = model(X_train, Y_train, X_test, Y_test)\n",
    "\n"
   ],
   "metadata": {
    "collapsed": false,
    "pycharm": {
     "name": "#%%\n",
     "is_executing": false
    }
   }
  },
  {
   "cell_type": "code",
   "execution_count": 39,
   "outputs": [
    {
     "name": "stdout",
     "text": [
      "1890\nINFO:tensorflow:Restoring parameters from params.ckpt\n",
      "(?, 64)\ny = 7\n[[-30.101244   -12.266581    -1.353605    -6.925416     1.2171454\n   -0.91299117   8.100266   -36.90159      4.785799   -26.634783  ]]\npredict y = 7\n"
     ],
     "output_type": "stream"
    },
    {
     "data": {
      "text/plain": "<Figure size 432x288 with 1 Axes>",
      "image/png": "[encoded data removed]"
     },
     "metadata": {
      "needs_background": "light"
     },
     "output_type": "display_data"
    }
   ],
   "source": [
    "index = np.random.randint(0,2182) # choose from trainset randomly\n",
    "print(index)\n",
    "tf.reset_default_graph()\n",
    "\n",
    "#predict\n",
    "with tf.Session() as sess:\n",
    "    np.random.seed(1)\n",
    "    X, Y = creat_placeholder(64, 64, 3, 10)\n",
    "    parameters = initialize_parameters()\n",
    "    \n",
    "    # initial parameters\n",
    "    init = tf.global_variables_initializer()\n",
    "    sess.run(init)\n",
    "    \n",
    "    # restore parameters\n",
    "    variables = tf.global_variables()\n",
    "    saver = tf.train.Saver()\n",
    "    saver.restore(sess,'params.ckpt')\n",
    "    \n",
    "    # predict\n",
    "    parametses = {variables[0],variables[1],variables[2]}\n",
    "    predict_result = forward_propagation(X, parameters)\n",
    "    \n",
    "    #prepare data, use normalized data\n",
    "    X_from_trainset = X_train[index].astype(np.float32)\n",
    "    X_from_trainset = np.reshape(X_from_trainset,[1,64,64,3])\n",
    "    Y_from_trainset = Y_train[index]\n",
    "    Y_from_trainset = np.reshape(Y_from_trainset,[1,10])\n",
    "    \n",
    "    # display this picture\n",
    "    plt.imshow(X_train_orig[index]/255)\n",
    "    print (\"y = \" + str(np.squeeze(Y_train_orig[:,index])+1))\n",
    "    #\n",
    "\n",
    "    # display predict result\n",
    "    a = sess.run(predict_result, {X: X_from_trainset, Y: Y_from_trainset})\n",
    "    print(a)\n",
    "    predict_class = np.argmax(a, 1)\n",
    "    print(\"predict y = \" + str(np.squeeze(predict_class)+1))"
   ],
   "metadata": {
    "collapsed": false,
    "pycharm": {
     "name": "#%%\n",
     "is_executing": false
    }
   }
  },
  {
   "cell_type": "code",
   "execution_count": 43,
   "outputs": [
    {
     "name": "stdout",
     "text": [
      "140\nINFO:tensorflow:Restoring parameters from params.ckpt\n",
      "(?, 64)\ny = 2\n[[ -6.2342033   6.275505   -1.0024683 -11.957131   -8.105859   -9.293765\n   -4.7750382 -20.512867  -11.703423   -6.4592943]]\npredict y = 2\n"
     ],
     "output_type": "stream"
    },
    {
     "data": {
      "text/plain": "<Figure size 432x288 with 1 Axes>",
      "image/png": "[encoded data removed]"
     },
     "metadata": {
      "needs_background": "light"
     },
     "output_type": "display_data"
    }
   ],
   "source": [
    "#np.random.seed(1)\n",
    "tf.reset_default_graph()\n",
    "index = np.random.randint(0,200) # choose from testset randomly\n",
    "print(index)\n",
    "#predict\n",
    "with tf.Session() as sess:\n",
    "    \n",
    "    X, Y = creat_placeholder(64, 64, 3, 10)\n",
    "    parameters = initialize_parameters()\n",
    "    \n",
    "    # initial parameters\n",
    "    init = tf.global_variables_initializer()\n",
    "    sess.run(init)\n",
    "    \n",
    "    # restore parameters\n",
    "    variables = tf.global_variables()\n",
    "    saver = tf.train.Saver()\n",
    "    saver.restore(sess,'params.ckpt')\n",
    "    \n",
    "    #predict\n",
    "    parametses = {variables[0],variables[1],variables[2]}\n",
    "    predict_result = forward_propagation(X, parameters)\n",
    "    \n",
    "    #prepare data, use nomalized data\n",
    "    X_from_testset = X_test[index].astype(np.float32)\n",
    "    X_from_testset = np.reshape(X_from_testset,[1,64,64,3])\n",
    "    Y_from_testset = Y_test[index]\n",
    "    Y_from_testset = np.reshape(Y_from_testset,[1,10])\n",
    "    #X,Y = create_placeholders(64, 64, 3, 10)\n",
    "    \n",
    "    \n",
    "    # display this picture\n",
    "    plt.imshow(X_test_orig[index]/255)\n",
    "    print (\"y = \" + str(np.squeeze(Y_test_orig[:,index])+1))\n",
    "    #\n",
    "\n",
    "    #display predict result\n",
    "    a = sess.run(predict_result, {X: X_from_testset, Y: Y_from_testset})\n",
    "    print(a)\n",
    "    predict_class = np.argmax(a, 1)\n",
    "    print(\"predict y = \" + str(np.squeeze(predict_class)+1))"
   ],
   "metadata": {
    "collapsed": false,
    "pycharm": {
     "name": "#%%\n",
     "is_executing": false
    }
   }
  },
  {
   "cell_type": "code",
   "execution_count": 41,
   "outputs": [
    {
     "name": "stdout",
     "text": [
      "INFO:tensorflow:Restoring parameters from params.ckpt\n",
      "(?, 64)\n[[-40.618866  -33.81633   -13.090858   -5.6422443   7.342139   -3.2911353\n   14.36995   -70.023224   10.418106  -25.331024 ]]\npredict y = [7]\n"
     ],
     "output_type": "stream"
    },
    {
     "data": {
      "text/plain": "<Figure size 432x288 with 1 Axes>",
      "image/png": "[encoded data removed]"
     },
     "metadata": {
      "needs_background": "light"
     },
     "output_type": "display_data"
    }
   ],
   "source": [
    "tf.reset_default_graph()\n",
    "\n",
    "#这个图片名字叫做test.jpg\n",
    "my_image = Image.open('7.jpg')\n",
    "my_image = my_image.resize((64,64))\n",
    "# display this picture\n",
    "plt.imshow(my_image)\n",
    "\n",
    "#prepare data\n",
    "X_my_image = np.array(my_image)/255. # normalization\n",
    "X_my_image = X_my_image.astype(np.float32)\n",
    "X_my_image = np.reshape(X_my_image,[1,64,64,3])\n",
    "\n",
    "with tf.Session() as sess:\n",
    "    np.random.seed(1)\n",
    "    X, Y = creat_placeholder(64, 64, 3, 10)\n",
    "    parameters = initialize_parameters()\n",
    "    \n",
    "    #initialize parameters\n",
    "    init = tf.global_variables_initializer()\n",
    "    sess.run(init)\n",
    "    \n",
    "    #restore parameters\n",
    "    variables = tf.global_variables()\n",
    "    saver = tf.train.Saver()\n",
    "    saver.restore(sess,'params.ckpt')\n",
    "    \n",
    "    #predict\n",
    "    parametses = {variables[0],variables[1],variables[2]}\n",
    "    predict_result = forward_propagation(X, parameters)\n",
    "    \n",
    "    #display predict result\n",
    "    a = sess.run(predict_result, {X: X_my_image, Y: [[1,0,0,0,0,0,0,0,0,0]]})\n",
    "    print(a)\n",
    "    predict_class = np.argmax(a, 1)\n",
    "    print(\"predict y = \" + str(predict_class+1))\n"
   ],
   "metadata": {
    "collapsed": false,
    "pycharm": {
     "name": "#%%\n",
     "is_executing": false
    }
   }
  },
  {
   "cell_type": "code",
   "execution_count": null,
   "outputs": [],
   "source": [
    "\n"
   ],
   "metadata": {
    "collapsed": false,
    "pycharm": {
     "name": "#%%\n"
    }
   }
  }
 ],
 "metadata": {
  "kernelspec": {
   "name": "pycharm-2b2bcc0",
   "language": "python",
   "display_name": "PyCharm (ai-hw8-nn)"
  },
  "language_info": {
   "codemirror_mode": {
    "name": "ipython",
    "version": 3
   },
   "file_extension": ".py",
   "mimetype": "text/x-python",
   "name": "python",
   "nbconvert_exporter": "python",
   "pygments_lexer": "ipython3",
   "version": "3.7.1"
  },
  "pycharm": {
   "stem_cell": {
    "cell_type": "raw",
    "source": [],
    "metadata": {
     "collapsed": false
    }
   }
  }
 },
 "nbformat": 4,
 "nbformat_minor": 2
}